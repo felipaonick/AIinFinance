{
  "nbformat": 4,
  "nbformat_minor": 0,
  "metadata": {
    "colab": {
      "provenance": []
    },
    "kernelspec": {
      "name": "python3",
      "display_name": "Python 3"
    },
    "language_info": {
      "name": "python"
    }
  },
  "cells": [
    {
      "cell_type": "code",
      "execution_count": 5,
      "metadata": {
        "colab": {
          "base_uri": "https://localhost:8080/"
        },
        "id": "lCBOvLvsExfs",
        "outputId": "cbf2364b-9faf-4db7-e363-586b9e30db17"
      },
      "outputs": [
        {
          "output_type": "stream",
          "name": "stderr",
          "text": [
            "<ipython-input-5-16101dc1104c>:7: MatplotlibDeprecationWarning: The seaborn styles shipped by Matplotlib are deprecated since 3.6, as they no longer correspond to the styles shipped by seaborn. However, they will remain available as 'seaborn-v0_8-<style>'. Alternatively, directly use the seaborn API instead.\n",
            "  plt.style.use('seaborn')\n"
          ]
        },
        {
          "output_type": "stream",
          "name": "stdout",
          "text": [
            "<class 'pandas.core.frame.DataFrame'>\n",
            "DatetimeIndex: 5529 entries, 2019-03-01 00:00:00 to 2020-01-01 00:00:00\n",
            "Data columns (total 12 columns):\n",
            " #   Column  Non-Null Count  Dtype  \n",
            "---  ------  --------------  -----  \n",
            " 0   AAPL.O  3384 non-null   float64\n",
            " 1   MSFT.O  3378 non-null   float64\n",
            " 2   INTC.O  3275 non-null   float64\n",
            " 3   AMZN.O  3381 non-null   float64\n",
            " 4   GS.N    1686 non-null   float64\n",
            " 5   SPY     3388 non-null   float64\n",
            " 6   .SPX    1802 non-null   float64\n",
            " 7   .VIX    2959 non-null   float64\n",
            " 8   EUR=    5429 non-null   float64\n",
            " 9   XAU=    5149 non-null   float64\n",
            " 10  GDX     3173 non-null   float64\n",
            " 11  GLD     3351 non-null   float64\n",
            "dtypes: float64(12)\n",
            "memory usage: 561.5 KB\n"
          ]
        }
      ],
      "source": [
        "import numpy as np\n",
        "import pandas as pd\n",
        "from pylab import plt, mpl\n",
        "from sklearn.metrics import accuracy_score\n",
        "from sklearn.neural_network import MLPClassifier\n",
        "\n",
        "plt.style.use('seaborn')\n",
        "mpl.rcParams['savefig.dpi'] = 300\n",
        "mpl.rcParams['font.family'] = 'serif'\n",
        "pd.set_option('display.precision', 4)\n",
        "np.set_printoptions(suppress=True, precision=4)\n",
        "\n",
        "\n",
        "#def add_lags(data, ric, lags):\n",
        "#  cols = []\n",
        "# df = pd.DataFrame(data[ric])\n",
        "#  for lag in range(1, lags +1):\n",
        "#    #crea il nome di una colonna\n",
        "#    col = 'lag_{}'.format(lag)\n",
        " #   #ritarda i dati sui prezzi\n",
        "  #  df[col] = df[ric].shift(lag)\n",
        "  #  #aggiunge il nome della colonna alla lista\n",
        "  #  cols.append(col)\n",
        "  #cancella tutte le righe incomplete\n",
        " # df.dropna(inplace = True)\n",
        "  #return df, cols\n",
        "\n",
        "def add_lags(data, ric, lags, window=50):\n",
        "    cols = []\n",
        "    df = pd.DataFrame(data[ric])\n",
        "    df.dropna(inplace=True)\n",
        "    df['r'] = np.log(df / df.shift())\n",
        "    #SMA\n",
        "    df['sma'] = df[ric].rolling(window).mean()\n",
        "    #rolling minimum\n",
        "    df['min'] = df[ric].rolling(window).min()  \n",
        "    #rolling maximum\n",
        "    df['max'] = df[ric].rolling(window).max()\n",
        "    #momentum come media dei rendimenti log\n",
        "    df['mom'] = df['r'].rolling(window).mean()\n",
        "    #rolling volatility\n",
        "    df['vol'] = df['r'].rolling(window).std()  \n",
        "    df.dropna(inplace=True)\n",
        "    #direzione come feature binaria\n",
        "    df['d'] = np.where(df['r'] > 0, 1, 0)  \n",
        "    features = [ric, 'r', 'd', 'sma', 'min', 'max', 'mom', 'vol']\n",
        "    for f in features:\n",
        "        for lag in range(1, lags + 1):\n",
        "            col = f'{f}_lag_{lag}'\n",
        "            df[col] = df[f].shift(lag)\n",
        "            cols.append(col)\n",
        "    df.dropna(inplace=True)\n",
        "    return df, cols\n",
        "\n",
        "\n",
        "def train_test_model(model):\n",
        "    for ric in data:\n",
        "        df, cols = dfs[ric]\n",
        "        split = int(len(df) * 0.85)\n",
        "        train = df.iloc[:split].copy()\n",
        "        #Le statistiche del set di dati di addestramento vengono utilizzate per la normalizzazione.\n",
        "        mu, std = train[cols].mean(), train[cols].std()\n",
        "        train[cols] = (train[cols] - mu) / std\n",
        "        model.fit(train[cols], train['d'])\n",
        "        test = df.iloc[split:].copy()\n",
        "        test[cols] = (test[cols] - mu) / std\n",
        "        pred = model.predict(test[cols])\n",
        "        acc = accuracy_score(test['d'], pred)\n",
        "        print(f'OUT-OF-SAMPLE | {ric:7s} | acc={acc:.4f}')\n",
        "\n",
        "\n",
        "url = 'http://hilpisch.com/aiif_eikon_id_data.csv'\n",
        "\n",
        "data = pd.read_csv(url, index_col=0, parse_dates=True)\n",
        "\n",
        "data.info()"
      ]
    },
    {
      "cell_type": "code",
      "source": [
        "data.head()"
      ],
      "metadata": {
        "colab": {
          "base_uri": "https://localhost:8080/",
          "height": 238
        },
        "id": "CZ4raON8FcZd",
        "outputId": "ec62d3c3-5e6f-4061-984b-24e211a15b75"
      },
      "execution_count": 6,
      "outputs": [
        {
          "output_type": "execute_result",
          "data": {
            "text/plain": [
              "                     AAPL.O  MSFT.O  INTC.O  AMZN.O  GS.N     SPY  .SPX  .VIX  \\\n",
              "Date                                                                            \n",
              "2019-03-01 00:00:00  173.15  112.09   53.03  1640.4   NaN  278.59   NaN   NaN   \n",
              "2019-03-01 01:00:00  173.44  112.24     NaN  1642.8   NaN  278.80   NaN   NaN   \n",
              "2019-03-01 02:00:00     NaN     NaN     NaN     NaN   NaN     NaN   NaN   NaN   \n",
              "2019-03-01 03:00:00     NaN     NaN     NaN     NaN   NaN     NaN   NaN   NaN   \n",
              "2019-03-01 04:00:00     NaN     NaN     NaN     NaN   NaN     NaN   NaN   NaN   \n",
              "\n",
              "                       EUR=       XAU=    GDX     GLD  \n",
              "Date                                                   \n",
              "2019-03-01 00:00:00  1.1373  1314.0663  22.24  124.07  \n",
              "2019-03-01 01:00:00  1.1369  1312.9100  22.24  124.08  \n",
              "2019-03-01 02:00:00  1.1372  1314.3636    NaN     NaN  \n",
              "2019-03-01 03:00:00  1.1367  1313.2452    NaN     NaN  \n",
              "2019-03-01 04:00:00  1.1369  1313.1746    NaN     NaN  "
            ],
            "text/html": [
              "\n",
              "  <div id=\"df-9d88d6bd-3d2f-4cc1-b5cf-f79ba73614e7\">\n",
              "    <div class=\"colab-df-container\">\n",
              "      <div>\n",
              "<style scoped>\n",
              "    .dataframe tbody tr th:only-of-type {\n",
              "        vertical-align: middle;\n",
              "    }\n",
              "\n",
              "    .dataframe tbody tr th {\n",
              "        vertical-align: top;\n",
              "    }\n",
              "\n",
              "    .dataframe thead th {\n",
              "        text-align: right;\n",
              "    }\n",
              "</style>\n",
              "<table border=\"1\" class=\"dataframe\">\n",
              "  <thead>\n",
              "    <tr style=\"text-align: right;\">\n",
              "      <th></th>\n",
              "      <th>AAPL.O</th>\n",
              "      <th>MSFT.O</th>\n",
              "      <th>INTC.O</th>\n",
              "      <th>AMZN.O</th>\n",
              "      <th>GS.N</th>\n",
              "      <th>SPY</th>\n",
              "      <th>.SPX</th>\n",
              "      <th>.VIX</th>\n",
              "      <th>EUR=</th>\n",
              "      <th>XAU=</th>\n",
              "      <th>GDX</th>\n",
              "      <th>GLD</th>\n",
              "    </tr>\n",
              "    <tr>\n",
              "      <th>Date</th>\n",
              "      <th></th>\n",
              "      <th></th>\n",
              "      <th></th>\n",
              "      <th></th>\n",
              "      <th></th>\n",
              "      <th></th>\n",
              "      <th></th>\n",
              "      <th></th>\n",
              "      <th></th>\n",
              "      <th></th>\n",
              "      <th></th>\n",
              "      <th></th>\n",
              "    </tr>\n",
              "  </thead>\n",
              "  <tbody>\n",
              "    <tr>\n",
              "      <th>2019-03-01 00:00:00</th>\n",
              "      <td>173.15</td>\n",
              "      <td>112.09</td>\n",
              "      <td>53.03</td>\n",
              "      <td>1640.4</td>\n",
              "      <td>NaN</td>\n",
              "      <td>278.59</td>\n",
              "      <td>NaN</td>\n",
              "      <td>NaN</td>\n",
              "      <td>1.1373</td>\n",
              "      <td>1314.0663</td>\n",
              "      <td>22.24</td>\n",
              "      <td>124.07</td>\n",
              "    </tr>\n",
              "    <tr>\n",
              "      <th>2019-03-01 01:00:00</th>\n",
              "      <td>173.44</td>\n",
              "      <td>112.24</td>\n",
              "      <td>NaN</td>\n",
              "      <td>1642.8</td>\n",
              "      <td>NaN</td>\n",
              "      <td>278.80</td>\n",
              "      <td>NaN</td>\n",
              "      <td>NaN</td>\n",
              "      <td>1.1369</td>\n",
              "      <td>1312.9100</td>\n",
              "      <td>22.24</td>\n",
              "      <td>124.08</td>\n",
              "    </tr>\n",
              "    <tr>\n",
              "      <th>2019-03-01 02:00:00</th>\n",
              "      <td>NaN</td>\n",
              "      <td>NaN</td>\n",
              "      <td>NaN</td>\n",
              "      <td>NaN</td>\n",
              "      <td>NaN</td>\n",
              "      <td>NaN</td>\n",
              "      <td>NaN</td>\n",
              "      <td>NaN</td>\n",
              "      <td>1.1372</td>\n",
              "      <td>1314.3636</td>\n",
              "      <td>NaN</td>\n",
              "      <td>NaN</td>\n",
              "    </tr>\n",
              "    <tr>\n",
              "      <th>2019-03-01 03:00:00</th>\n",
              "      <td>NaN</td>\n",
              "      <td>NaN</td>\n",
              "      <td>NaN</td>\n",
              "      <td>NaN</td>\n",
              "      <td>NaN</td>\n",
              "      <td>NaN</td>\n",
              "      <td>NaN</td>\n",
              "      <td>NaN</td>\n",
              "      <td>1.1367</td>\n",
              "      <td>1313.2452</td>\n",
              "      <td>NaN</td>\n",
              "      <td>NaN</td>\n",
              "    </tr>\n",
              "    <tr>\n",
              "      <th>2019-03-01 04:00:00</th>\n",
              "      <td>NaN</td>\n",
              "      <td>NaN</td>\n",
              "      <td>NaN</td>\n",
              "      <td>NaN</td>\n",
              "      <td>NaN</td>\n",
              "      <td>NaN</td>\n",
              "      <td>NaN</td>\n",
              "      <td>NaN</td>\n",
              "      <td>1.1369</td>\n",
              "      <td>1313.1746</td>\n",
              "      <td>NaN</td>\n",
              "      <td>NaN</td>\n",
              "    </tr>\n",
              "  </tbody>\n",
              "</table>\n",
              "</div>\n",
              "      <button class=\"colab-df-convert\" onclick=\"convertToInteractive('df-9d88d6bd-3d2f-4cc1-b5cf-f79ba73614e7')\"\n",
              "              title=\"Convert this dataframe to an interactive table.\"\n",
              "              style=\"display:none;\">\n",
              "        \n",
              "  <svg xmlns=\"http://www.w3.org/2000/svg\" height=\"24px\"viewBox=\"0 0 24 24\"\n",
              "       width=\"24px\">\n",
              "    <path d=\"M0 0h24v24H0V0z\" fill=\"none\"/>\n",
              "    <path d=\"M18.56 5.44l.94 2.06.94-2.06 2.06-.94-2.06-.94-.94-2.06-.94 2.06-2.06.94zm-11 1L8.5 8.5l.94-2.06 2.06-.94-2.06-.94L8.5 2.5l-.94 2.06-2.06.94zm10 10l.94 2.06.94-2.06 2.06-.94-2.06-.94-.94-2.06-.94 2.06-2.06.94z\"/><path d=\"M17.41 7.96l-1.37-1.37c-.4-.4-.92-.59-1.43-.59-.52 0-1.04.2-1.43.59L10.3 9.45l-7.72 7.72c-.78.78-.78 2.05 0 2.83L4 21.41c.39.39.9.59 1.41.59.51 0 1.02-.2 1.41-.59l7.78-7.78 2.81-2.81c.8-.78.8-2.07 0-2.86zM5.41 20L4 18.59l7.72-7.72 1.47 1.35L5.41 20z\"/>\n",
              "  </svg>\n",
              "      </button>\n",
              "      \n",
              "  <style>\n",
              "    .colab-df-container {\n",
              "      display:flex;\n",
              "      flex-wrap:wrap;\n",
              "      gap: 12px;\n",
              "    }\n",
              "\n",
              "    .colab-df-convert {\n",
              "      background-color: #E8F0FE;\n",
              "      border: none;\n",
              "      border-radius: 50%;\n",
              "      cursor: pointer;\n",
              "      display: none;\n",
              "      fill: #1967D2;\n",
              "      height: 32px;\n",
              "      padding: 0 0 0 0;\n",
              "      width: 32px;\n",
              "    }\n",
              "\n",
              "    .colab-df-convert:hover {\n",
              "      background-color: #E2EBFA;\n",
              "      box-shadow: 0px 1px 2px rgba(60, 64, 67, 0.3), 0px 1px 3px 1px rgba(60, 64, 67, 0.15);\n",
              "      fill: #174EA6;\n",
              "    }\n",
              "\n",
              "    [theme=dark] .colab-df-convert {\n",
              "      background-color: #3B4455;\n",
              "      fill: #D2E3FC;\n",
              "    }\n",
              "\n",
              "    [theme=dark] .colab-df-convert:hover {\n",
              "      background-color: #434B5C;\n",
              "      box-shadow: 0px 1px 3px 1px rgba(0, 0, 0, 0.15);\n",
              "      filter: drop-shadow(0px 1px 2px rgba(0, 0, 0, 0.3));\n",
              "      fill: #FFFFFF;\n",
              "    }\n",
              "  </style>\n",
              "\n",
              "      <script>\n",
              "        const buttonEl =\n",
              "          document.querySelector('#df-9d88d6bd-3d2f-4cc1-b5cf-f79ba73614e7 button.colab-df-convert');\n",
              "        buttonEl.style.display =\n",
              "          google.colab.kernel.accessAllowed ? 'block' : 'none';\n",
              "\n",
              "        async function convertToInteractive(key) {\n",
              "          const element = document.querySelector('#df-9d88d6bd-3d2f-4cc1-b5cf-f79ba73614e7');\n",
              "          const dataTable =\n",
              "            await google.colab.kernel.invokeFunction('convertToInteractive',\n",
              "                                                     [key], {});\n",
              "          if (!dataTable) return;\n",
              "\n",
              "          const docLinkHtml = 'Like what you see? Visit the ' +\n",
              "            '<a target=\"_blank\" href=https://colab.research.google.com/notebooks/data_table.ipynb>data table notebook</a>'\n",
              "            + ' to learn more about interactive tables.';\n",
              "          element.innerHTML = '';\n",
              "          dataTable['output_type'] = 'display_data';\n",
              "          await google.colab.output.renderOutput(dataTable, element);\n",
              "          const docLink = document.createElement('div');\n",
              "          docLink.innerHTML = docLinkHtml;\n",
              "          element.appendChild(docLink);\n",
              "        }\n",
              "      </script>\n",
              "    </div>\n",
              "  </div>\n",
              "  "
            ]
          },
          "metadata": {},
          "execution_count": 6
        }
      ]
    },
    {
      "cell_type": "code",
      "source": [
        "model_mlp = MLPClassifier(hidden_layer_sizes=[512],\n",
        "                          random_state=100,\n",
        "                          max_iter=1000,\n",
        "                          early_stopping=True,\n",
        "                          validation_fraction=0.15,\n",
        "                          shuffle=False)\n",
        "\n",
        "lags = 5\n",
        "\n",
        "dfs = {}\n",
        "\n",
        "for ric in data:\n",
        "  df, cols = add_lags(data, ric, lags)\n",
        "  dfs[ric] = df, cols\n",
        "\n",
        "train_test_model(model_mlp)"
      ],
      "metadata": {
        "colab": {
          "base_uri": "https://localhost:8080/"
        },
        "id": "ckfLAWdEF1Sh",
        "outputId": "e23753fb-6297-4da4-d9bd-5055696242e7"
      },
      "execution_count": 7,
      "outputs": [
        {
          "output_type": "stream",
          "name": "stdout",
          "text": [
            "OUT-OF-SAMPLE | AAPL.O  | acc=0.5420\n",
            "OUT-OF-SAMPLE | MSFT.O  | acc=0.4930\n",
            "OUT-OF-SAMPLE | INTC.O  | acc=0.5549\n",
            "OUT-OF-SAMPLE | AMZN.O  | acc=0.4709\n",
            "OUT-OF-SAMPLE | GS.N    | acc=0.5184\n",
            "OUT-OF-SAMPLE | SPY     | acc=0.4860\n",
            "OUT-OF-SAMPLE | .SPX    | acc=0.5019\n",
            "OUT-OF-SAMPLE | .VIX    | acc=0.4885\n",
            "OUT-OF-SAMPLE | EUR=    | acc=0.5130\n",
            "OUT-OF-SAMPLE | XAU=    | acc=0.4824\n",
            "OUT-OF-SAMPLE | GDX     | acc=0.4765\n",
            "OUT-OF-SAMPLE | GLD     | acc=0.5455\n"
          ]
        }
      ]
    },
    {
      "cell_type": "code",
      "source": [
        "from sklearn.ensemble import BaggingClassifier\n",
        "\n",
        "#stimatore base\n",
        "base_estimator = MLPClassifier(hidden_layer_sizes=[256],\n",
        "                                random_state=100,\n",
        "                                max_iter=1000,\n",
        "                                early_stopping=True,\n",
        "                                validation_fraction=0.15,\n",
        "                                shuffle=False)  \n",
        "\n",
        "model_bag = BaggingClassifier(base_estimator=base_estimator,\n",
        "                              #numero di stimatori usati\n",
        "                              n_estimators=35,\n",
        "                              #percentuale massima di dati di addestramento utilizzati per \n",
        "                              #stimatore\n",
        "                              max_samples=0.25,\n",
        "                              #numero massimo di features usate per stimatore\n",
        "                              max_features=0.5,\n",
        "                              #se eseguire il bootstrap (riutilizzo) dei dati  \n",
        "                              bootstrap=False,\n",
        "                              #se eseguire il bootstrap (riutilizzo) delle funzionalità\n",
        "                              bootstrap_features=True,\n",
        "                              #numero di lavori paralleli\n",
        "                              n_jobs=8, \n",
        "                              random_state=100\n",
        "                              )\n",
        "\n",
        "train_test_model(model_bag)"
      ],
      "metadata": {
        "id": "IQcc6vUmGZ5t",
        "colab": {
          "base_uri": "https://localhost:8080/"
        },
        "outputId": "6ae7441b-6fc1-484e-d040-a973bedcced0"
      },
      "execution_count": 8,
      "outputs": [
        {
          "output_type": "stream",
          "name": "stderr",
          "text": [
            "/usr/local/lib/python3.10/dist-packages/sklearn/ensemble/_base.py:166: FutureWarning: `base_estimator` was renamed to `estimator` in version 1.2 and will be removed in 1.4.\n",
            "  warnings.warn(\n"
          ]
        },
        {
          "output_type": "stream",
          "name": "stdout",
          "text": [
            "OUT-OF-SAMPLE | AAPL.O  | acc=0.5660\n"
          ]
        },
        {
          "output_type": "stream",
          "name": "stderr",
          "text": [
            "/usr/local/lib/python3.10/dist-packages/sklearn/ensemble/_base.py:166: FutureWarning: `base_estimator` was renamed to `estimator` in version 1.2 and will be removed in 1.4.\n",
            "  warnings.warn(\n"
          ]
        },
        {
          "output_type": "stream",
          "name": "stdout",
          "text": [
            "OUT-OF-SAMPLE | MSFT.O  | acc=0.5551\n"
          ]
        },
        {
          "output_type": "stream",
          "name": "stderr",
          "text": [
            "/usr/local/lib/python3.10/dist-packages/sklearn/ensemble/_base.py:166: FutureWarning: `base_estimator` was renamed to `estimator` in version 1.2 and will be removed in 1.4.\n",
            "  warnings.warn(\n"
          ]
        },
        {
          "output_type": "stream",
          "name": "stdout",
          "text": [
            "OUT-OF-SAMPLE | INTC.O  | acc=0.5072\n"
          ]
        },
        {
          "output_type": "stream",
          "name": "stderr",
          "text": [
            "/usr/local/lib/python3.10/dist-packages/sklearn/ensemble/_base.py:166: FutureWarning: `base_estimator` was renamed to `estimator` in version 1.2 and will be removed in 1.4.\n",
            "  warnings.warn(\n"
          ]
        },
        {
          "output_type": "stream",
          "name": "stdout",
          "text": [
            "OUT-OF-SAMPLE | AMZN.O  | acc=0.4830\n"
          ]
        },
        {
          "output_type": "stream",
          "name": "stderr",
          "text": [
            "/usr/local/lib/python3.10/dist-packages/sklearn/ensemble/_base.py:166: FutureWarning: `base_estimator` was renamed to `estimator` in version 1.2 and will be removed in 1.4.\n",
            "  warnings.warn(\n"
          ]
        },
        {
          "output_type": "stream",
          "name": "stdout",
          "text": [
            "OUT-OF-SAMPLE | GS.N    | acc=0.5020\n"
          ]
        },
        {
          "output_type": "stream",
          "name": "stderr",
          "text": [
            "/usr/local/lib/python3.10/dist-packages/sklearn/ensemble/_base.py:166: FutureWarning: `base_estimator` was renamed to `estimator` in version 1.2 and will be removed in 1.4.\n",
            "  warnings.warn(\n"
          ]
        },
        {
          "output_type": "stream",
          "name": "stdout",
          "text": [
            "OUT-OF-SAMPLE | SPY     | acc=0.4680\n"
          ]
        },
        {
          "output_type": "stream",
          "name": "stderr",
          "text": [
            "/usr/local/lib/python3.10/dist-packages/sklearn/ensemble/_base.py:166: FutureWarning: `base_estimator` was renamed to `estimator` in version 1.2 and will be removed in 1.4.\n",
            "  warnings.warn(\n"
          ]
        },
        {
          "output_type": "stream",
          "name": "stdout",
          "text": [
            "OUT-OF-SAMPLE | .SPX    | acc=0.4677\n"
          ]
        },
        {
          "output_type": "stream",
          "name": "stderr",
          "text": [
            "/usr/local/lib/python3.10/dist-packages/sklearn/ensemble/_base.py:166: FutureWarning: `base_estimator` was renamed to `estimator` in version 1.2 and will be removed in 1.4.\n",
            "  warnings.warn(\n"
          ]
        },
        {
          "output_type": "stream",
          "name": "stdout",
          "text": [
            "OUT-OF-SAMPLE | .VIX    | acc=0.5161\n"
          ]
        },
        {
          "output_type": "stream",
          "name": "stderr",
          "text": [
            "/usr/local/lib/python3.10/dist-packages/sklearn/ensemble/_base.py:166: FutureWarning: `base_estimator` was renamed to `estimator` in version 1.2 and will be removed in 1.4.\n",
            "  warnings.warn(\n"
          ]
        },
        {
          "output_type": "stream",
          "name": "stdout",
          "text": [
            "OUT-OF-SAMPLE | EUR=    | acc=0.5242\n"
          ]
        },
        {
          "output_type": "stream",
          "name": "stderr",
          "text": [
            "/usr/local/lib/python3.10/dist-packages/sklearn/ensemble/_base.py:166: FutureWarning: `base_estimator` was renamed to `estimator` in version 1.2 and will be removed in 1.4.\n",
            "  warnings.warn(\n"
          ]
        },
        {
          "output_type": "stream",
          "name": "stdout",
          "text": [
            "OUT-OF-SAMPLE | XAU=    | acc=0.5229\n"
          ]
        },
        {
          "output_type": "stream",
          "name": "stderr",
          "text": [
            "/usr/local/lib/python3.10/dist-packages/sklearn/ensemble/_base.py:166: FutureWarning: `base_estimator` was renamed to `estimator` in version 1.2 and will be removed in 1.4.\n",
            "  warnings.warn(\n"
          ]
        },
        {
          "output_type": "stream",
          "name": "stdout",
          "text": [
            "OUT-OF-SAMPLE | GDX     | acc=0.5107\n"
          ]
        },
        {
          "output_type": "stream",
          "name": "stderr",
          "text": [
            "/usr/local/lib/python3.10/dist-packages/sklearn/ensemble/_base.py:166: FutureWarning: `base_estimator` was renamed to `estimator` in version 1.2 and will be removed in 1.4.\n",
            "  warnings.warn(\n"
          ]
        },
        {
          "output_type": "stream",
          "name": "stdout",
          "text": [
            "OUT-OF-SAMPLE | GLD     | acc=0.5475\n"
          ]
        }
      ]
    },
    {
      "cell_type": "code",
      "source": [],
      "metadata": {
        "id": "Co7a2QjfuS4d"
      },
      "execution_count": null,
      "outputs": []
    }
  ]
}