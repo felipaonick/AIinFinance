{
  "nbformat": 4,
  "nbformat_minor": 0,
  "metadata": {
    "colab": {
      "provenance": []
    },
    "kernelspec": {
      "name": "python3",
      "display_name": "Python 3"
    },
    "language_info": {
      "name": "python"
    }
  },
  "cells": [
    {
      "cell_type": "code",
      "execution_count": 1,
      "metadata": {
        "colab": {
          "base_uri": "https://localhost:8080/"
        },
        "id": "2PrtQ4ho1Nwr",
        "outputId": "a2c28acc-4733-411e-89ff-5b0cf25e2df0"
      },
      "outputs": [
        {
          "output_type": "stream",
          "name": "stderr",
          "text": [
            "<ipython-input-1-64a8bcc45ecb>:4: MatplotlibDeprecationWarning: The seaborn styles shipped by Matplotlib are deprecated since 3.6, as they no longer correspond to the styles shipped by seaborn. However, they will remain available as 'seaborn-v0_8-<style>'. Alternatively, directly use the seaborn API instead.\n",
            "  plt.style.use('seaborn')\n"
          ]
        }
      ],
      "source": [
        "import numpy as np\n",
        "import pandas as pd\n",
        "from pylab import plt, mpl\n",
        "plt.style.use('seaborn')\n",
        "mpl.rcParams['savefig.dpi'] = 300\n",
        "mpl.rcParams['font.family'] = 'serif'\n",
        "pd.set_option('display.precision', 4)\n",
        "np.set_printoptions(suppress=True, precision=4)\n",
        "#leggiamo i dati all'interno di un DataFrame\n",
        "url = 'http://hilpisch.com/aiif_eikon_eod_data.csv'\n",
        "data = pd.read_csv(url, index_col=0, parse_dates=True).dropna()"
      ]
    },
    {
      "cell_type": "code",
      "source": [
        "def add_lags(data, ric, lags, window=50):\n",
        "    cols = []\n",
        "    df = pd.DataFrame(data[ric])\n",
        "    df.dropna(inplace=True)\n",
        "    df['r'] = np.log(df / df.shift())\n",
        "    #SMA\n",
        "    df['sma'] = df[ric].rolling(window).mean()\n",
        "    #rolling minimum\n",
        "    df['min'] = df[ric].rolling(window).min()  \n",
        "    #rolling maximum\n",
        "    df['max'] = df[ric].rolling(window).max()\n",
        "    #momentum come media dei rendimenti log\n",
        "    df['mom'] = df['r'].rolling(window).mean()\n",
        "    #rolling volatility\n",
        "    df['vol'] = df['r'].rolling(window).std()  \n",
        "    df.dropna(inplace=True)\n",
        "    #direzione come feature binaria\n",
        "    df['d'] = np.where(df['r'] > 0, 1, 0)  \n",
        "    features = [ric, 'r', 'd', 'sma', 'min', 'max', 'mom', 'vol']\n",
        "    for f in features:\n",
        "        for lag in range(1, lags + 1):\n",
        "            col = f'{f}_lag_{lag}'\n",
        "            df[col] = df[f].shift(lag)\n",
        "            cols.append(col)\n",
        "    df.dropna(inplace=True)\n",
        "    return df, cols\n",
        "\n",
        "lags = 5\n",
        "dfs = {}\n",
        "for ric in data:\n",
        "    df, cols = add_lags(data, ric, lags)\n",
        "    dfs[ric] = df.dropna(), cols"
      ],
      "metadata": {
        "id": "5UlhrWac1dIj"
      },
      "execution_count": 2,
      "outputs": []
    },
    {
      "cell_type": "code",
      "source": [
        "from sklearn.neural_network import MLPClassifier\n",
        "from sklearn.metrics import accuracy_score\n",
        "\n",
        "for ric in data:\n",
        "    model = MLPClassifier(hidden_layer_sizes=[512],\n",
        "                          random_state=100,\n",
        "                          max_iter=1000,\n",
        "                          early_stopping=True,\n",
        "                          validation_fraction=0.15,\n",
        "                          shuffle=False)\n",
        "    df, cols = dfs[ric]\n",
        "    #normalizza i dati delle features\n",
        "    df[cols] = (df[cols] - df[cols].mean()) / df[cols].std()\n",
        "    model.fit(df[cols], df['d'])\n",
        "    pred = model.predict(df[cols])\n",
        "    acc = accuracy_score(df['d'], pred)\n",
        "    print(f'IN-SAMPLE | {ric:7s} | acc={acc:.4f}')"
      ],
      "metadata": {
        "colab": {
          "base_uri": "https://localhost:8080/"
        },
        "id": "dAPFgYD722qP",
        "outputId": "1cd435c7-128f-4aca-e0f7-535cf2b01d8c"
      },
      "execution_count": 4,
      "outputs": [
        {
          "output_type": "stream",
          "name": "stdout",
          "text": [
            "IN-SAMPLE | AAPL.O  | acc=0.5510\n",
            "IN-SAMPLE | MSFT.O  | acc=0.5376\n",
            "IN-SAMPLE | INTC.O  | acc=0.5607\n",
            "IN-SAMPLE | AMZN.O  | acc=0.5559\n",
            "IN-SAMPLE | GS.N    | acc=0.5794\n",
            "IN-SAMPLE | SPY     | acc=0.5729\n",
            "IN-SAMPLE | .SPX    | acc=0.5941\n",
            "IN-SAMPLE | .VIX    | acc=0.6940\n",
            "IN-SAMPLE | EUR=    | acc=0.5766\n",
            "IN-SAMPLE | XAU=    | acc=0.5672\n",
            "IN-SAMPLE | GDX     | acc=0.5847\n",
            "IN-SAMPLE | GLD     | acc=0.5567\n"
          ]
        }
      ]
    },
    {
      "cell_type": "code",
      "source": [
        "import tensorflow as tf\n",
        "from keras.layers import Dense\n",
        "from keras.models import Sequential\n",
        "\n",
        "np.random.seed(100)\n",
        "tf.random.set_seed(100)\n",
        "\n",
        "def create_model(problem='regression'): \n",
        "  model = Sequential()\n",
        "  model.add(Dense(512, input_dim=len(cols),\n",
        "                    activation='relu'))\n",
        "  if problem == 'regression':\n",
        "    model.add(Dense(1, activation='linear'))\n",
        "    model.compile(loss='mse', optimizer='adam')\n",
        "  else:\n",
        "    model.add(Dense(1, activation='sigmoid'))\n",
        "    model.compile(loss='binary_crossentropy', optimizer='adam')\n",
        "  return model\n",
        "\n",
        "for ric in data:\n",
        "    model = create_model('classification')\n",
        "    df, cols = dfs[ric]\n",
        "    #normalizza i dati delle features\n",
        "    df[cols] = (df[cols] - df[cols].mean()) / df[cols].std()\n",
        "    model.fit(df[cols], df['d'], epochs=50, verbose=False)\n",
        "    pred = np.where(model.predict(df[cols]) > 0.5, 1, 0)\n",
        "    acc = accuracy_score(df['d'], pred)\n",
        "    print(f'IN-SAMPLE | {ric:7s} | acc={acc:.4f}')"
      ],
      "metadata": {
        "colab": {
          "base_uri": "https://localhost:8080/"
        },
        "id": "i1ll5d366nao",
        "outputId": "2bd7f3b8-9d4b-4dc2-c626-a45ce28c8c43"
      },
      "execution_count": 7,
      "outputs": [
        {
          "output_type": "stream",
          "name": "stdout",
          "text": [
            "77/77 [==============================] - 0s 2ms/step\n",
            "IN-SAMPLE | AAPL.O  | acc=0.7017\n",
            "77/77 [==============================] - 0s 2ms/step\n",
            "IN-SAMPLE | MSFT.O  | acc=0.6912\n",
            "77/77 [==============================] - 0s 1ms/step\n",
            "IN-SAMPLE | INTC.O  | acc=0.7026\n",
            "77/77 [==============================] - 0s 2ms/step\n",
            "IN-SAMPLE | AMZN.O  | acc=0.6786\n",
            "77/77 [==============================] - 0s 1ms/step\n",
            "IN-SAMPLE | GS.N    | acc=0.6883\n",
            "77/77 [==============================] - 0s 1ms/step\n",
            "IN-SAMPLE | SPY     | acc=0.6826\n",
            "77/77 [==============================] - 0s 1ms/step\n",
            "IN-SAMPLE | .SPX    | acc=0.6940\n",
            "77/77 [==============================] - 0s 1ms/step\n",
            "IN-SAMPLE | .VIX    | acc=0.7538\n",
            "77/77 [==============================] - 0s 2ms/step\n",
            "IN-SAMPLE | EUR=    | acc=0.6684\n",
            "77/77 [==============================] - 0s 2ms/step\n",
            "IN-SAMPLE | XAU=    | acc=0.7005\n",
            "77/77 [==============================] - 0s 2ms/step\n",
            "IN-SAMPLE | GDX     | acc=0.6904\n",
            "77/77 [==============================] - 0s 1ms/step\n",
            "IN-SAMPLE | GLD     | acc=0.7038\n"
          ]
        }
      ]
    },
    {
      "cell_type": "code",
      "source": [
        "def train_test_model(model):\n",
        "    for ric in data:\n",
        "        df, cols = dfs[ric]\n",
        "        split = int(len(df) * 0.85)\n",
        "        train = df.iloc[:split].copy()\n",
        "        #Le statistiche del set di dati di addestramento vengono utilizzate per la normalizzazione.\n",
        "        mu, std = train[cols].mean(), train[cols].std()\n",
        "        train[cols] = (train[cols] - mu) / std\n",
        "        model.fit(train[cols], train['d'])\n",
        "        test = df.iloc[split:].copy()\n",
        "        test[cols] = (test[cols] - mu) / std\n",
        "        pred = model.predict(test[cols])\n",
        "        acc = accuracy_score(test['d'], pred)\n",
        "        print(f'OUT-OF-SAMPLE | {ric:7s} | acc={acc:.4f}')\n",
        "\n",
        "model_mlp = MLPClassifier(hidden_layer_sizes=[512],\n",
        "                          random_state=100,\n",
        "                          max_iter=1000,\n",
        "                          early_stopping=True,\n",
        "                          validation_fraction=0.15,\n",
        "                          shuffle=False)\n",
        "\n",
        "train_test_model(model_mlp)"
      ],
      "metadata": {
        "colab": {
          "base_uri": "https://localhost:8080/"
        },
        "id": "JXgfYJYM9q7H",
        "outputId": "3b495a4c-d68a-4205-b3ae-eb6bfcf88f6e"
      },
      "execution_count": 9,
      "outputs": [
        {
          "output_type": "stream",
          "name": "stdout",
          "text": [
            "OUT-OF-SAMPLE | AAPL.O  | acc=0.4432\n",
            "OUT-OF-SAMPLE | MSFT.O  | acc=0.4595\n",
            "OUT-OF-SAMPLE | INTC.O  | acc=0.5000\n",
            "OUT-OF-SAMPLE | AMZN.O  | acc=0.5270\n",
            "OUT-OF-SAMPLE | GS.N    | acc=0.4838\n",
            "OUT-OF-SAMPLE | SPY     | acc=0.4811\n",
            "OUT-OF-SAMPLE | .SPX    | acc=0.5027\n",
            "OUT-OF-SAMPLE | .VIX    | acc=0.5676\n",
            "OUT-OF-SAMPLE | EUR=    | acc=0.4649\n",
            "OUT-OF-SAMPLE | XAU=    | acc=0.5514\n",
            "OUT-OF-SAMPLE | GDX     | acc=0.5162\n",
            "OUT-OF-SAMPLE | GLD     | acc=0.4946\n"
          ]
        }
      ]
    },
    {
      "cell_type": "code",
      "source": [
        "from sklearn.ensemble import BaggingClassifier\n",
        "\n",
        "#stimatore base\n",
        "base_estimator = MLPClassifier(hidden_layer_sizes=[256],\n",
        "                                random_state=100,\n",
        "                                max_iter=1000,\n",
        "                                early_stopping=True,\n",
        "                                validation_fraction=0.15,\n",
        "                                shuffle=False)  \n",
        "\n",
        "model_bag = BaggingClassifier(base_estimator=base_estimator,\n",
        "                              #numero di stimatori usati\n",
        "                              n_estimators=35,\n",
        "                              #percentuale massima di dati di addestramento utilizzati per \n",
        "                              #stimatore\n",
        "                              max_samples=0.25,\n",
        "                              #numero massimo di features usate per stimatore\n",
        "                              max_features=0.5,\n",
        "                              #se eseguire il bootstrap (riutilizzo) dei dati  \n",
        "                              bootstrap=False,\n",
        "                              #se eseguire il bootstrap (riutilizzo) delle funzionalità\n",
        "                              bootstrap_features=True,\n",
        "                              #numero di lavori paralleli\n",
        "                              n_jobs=8, \n",
        "                              random_state=100\n",
        "                              )\n",
        "\n",
        "train_test_model(model_bag)"
      ],
      "metadata": {
        "colab": {
          "base_uri": "https://localhost:8080/"
        },
        "id": "ufAa9BrY_hTS",
        "outputId": "f1ba9de8-564a-44d1-f3e2-1396490caa46"
      },
      "execution_count": 12,
      "outputs": [
        {
          "output_type": "stream",
          "name": "stderr",
          "text": [
            "/usr/local/lib/python3.9/dist-packages/sklearn/ensemble/_base.py:166: FutureWarning: `base_estimator` was renamed to `estimator` in version 1.2 and will be removed in 1.4.\n",
            "  warnings.warn(\n"
          ]
        },
        {
          "output_type": "stream",
          "name": "stdout",
          "text": [
            "OUT-OF-SAMPLE | AAPL.O  | acc=0.5000\n"
          ]
        },
        {
          "output_type": "stream",
          "name": "stderr",
          "text": [
            "/usr/local/lib/python3.9/dist-packages/sklearn/ensemble/_base.py:166: FutureWarning: `base_estimator` was renamed to `estimator` in version 1.2 and will be removed in 1.4.\n",
            "  warnings.warn(\n"
          ]
        },
        {
          "output_type": "stream",
          "name": "stdout",
          "text": [
            "OUT-OF-SAMPLE | MSFT.O  | acc=0.5703\n"
          ]
        },
        {
          "output_type": "stream",
          "name": "stderr",
          "text": [
            "/usr/local/lib/python3.9/dist-packages/sklearn/ensemble/_base.py:166: FutureWarning: `base_estimator` was renamed to `estimator` in version 1.2 and will be removed in 1.4.\n",
            "  warnings.warn(\n"
          ]
        },
        {
          "output_type": "stream",
          "name": "stdout",
          "text": [
            "OUT-OF-SAMPLE | INTC.O  | acc=0.5054\n"
          ]
        },
        {
          "output_type": "stream",
          "name": "stderr",
          "text": [
            "/usr/local/lib/python3.9/dist-packages/sklearn/ensemble/_base.py:166: FutureWarning: `base_estimator` was renamed to `estimator` in version 1.2 and will be removed in 1.4.\n",
            "  warnings.warn(\n"
          ]
        },
        {
          "output_type": "stream",
          "name": "stdout",
          "text": [
            "OUT-OF-SAMPLE | AMZN.O  | acc=0.5270\n"
          ]
        },
        {
          "output_type": "stream",
          "name": "stderr",
          "text": [
            "/usr/local/lib/python3.9/dist-packages/sklearn/ensemble/_base.py:166: FutureWarning: `base_estimator` was renamed to `estimator` in version 1.2 and will be removed in 1.4.\n",
            "  warnings.warn(\n"
          ]
        },
        {
          "output_type": "stream",
          "name": "stdout",
          "text": [
            "OUT-OF-SAMPLE | GS.N    | acc=0.5135\n"
          ]
        },
        {
          "output_type": "stream",
          "name": "stderr",
          "text": [
            "/usr/local/lib/python3.9/dist-packages/sklearn/ensemble/_base.py:166: FutureWarning: `base_estimator` was renamed to `estimator` in version 1.2 and will be removed in 1.4.\n",
            "  warnings.warn(\n"
          ]
        },
        {
          "output_type": "stream",
          "name": "stdout",
          "text": [
            "OUT-OF-SAMPLE | SPY     | acc=0.5568\n"
          ]
        },
        {
          "output_type": "stream",
          "name": "stderr",
          "text": [
            "/usr/local/lib/python3.9/dist-packages/sklearn/ensemble/_base.py:166: FutureWarning: `base_estimator` was renamed to `estimator` in version 1.2 and will be removed in 1.4.\n",
            "  warnings.warn(\n"
          ]
        },
        {
          "output_type": "stream",
          "name": "stdout",
          "text": [
            "OUT-OF-SAMPLE | .SPX    | acc=0.5514\n"
          ]
        },
        {
          "output_type": "stream",
          "name": "stderr",
          "text": [
            "/usr/local/lib/python3.9/dist-packages/sklearn/ensemble/_base.py:166: FutureWarning: `base_estimator` was renamed to `estimator` in version 1.2 and will be removed in 1.4.\n",
            "  warnings.warn(\n"
          ]
        },
        {
          "output_type": "stream",
          "name": "stdout",
          "text": [
            "OUT-OF-SAMPLE | .VIX    | acc=0.5432\n"
          ]
        },
        {
          "output_type": "stream",
          "name": "stderr",
          "text": [
            "/usr/local/lib/python3.9/dist-packages/sklearn/ensemble/_base.py:166: FutureWarning: `base_estimator` was renamed to `estimator` in version 1.2 and will be removed in 1.4.\n",
            "  warnings.warn(\n"
          ]
        },
        {
          "output_type": "stream",
          "name": "stdout",
          "text": [
            "OUT-OF-SAMPLE | EUR=    | acc=0.5054\n"
          ]
        },
        {
          "output_type": "stream",
          "name": "stderr",
          "text": [
            "/usr/local/lib/python3.9/dist-packages/sklearn/ensemble/_base.py:166: FutureWarning: `base_estimator` was renamed to `estimator` in version 1.2 and will be removed in 1.4.\n",
            "  warnings.warn(\n"
          ]
        },
        {
          "output_type": "stream",
          "name": "stdout",
          "text": [
            "OUT-OF-SAMPLE | XAU=    | acc=0.5351\n"
          ]
        },
        {
          "output_type": "stream",
          "name": "stderr",
          "text": [
            "/usr/local/lib/python3.9/dist-packages/sklearn/ensemble/_base.py:166: FutureWarning: `base_estimator` was renamed to `estimator` in version 1.2 and will be removed in 1.4.\n",
            "  warnings.warn(\n"
          ]
        },
        {
          "output_type": "stream",
          "name": "stdout",
          "text": [
            "OUT-OF-SAMPLE | GDX     | acc=0.5054\n"
          ]
        },
        {
          "output_type": "stream",
          "name": "stderr",
          "text": [
            "/usr/local/lib/python3.9/dist-packages/sklearn/ensemble/_base.py:166: FutureWarning: `base_estimator` was renamed to `estimator` in version 1.2 and will be removed in 1.4.\n",
            "  warnings.warn(\n"
          ]
        },
        {
          "output_type": "stream",
          "name": "stdout",
          "text": [
            "OUT-OF-SAMPLE | GLD     | acc=0.5189\n"
          ]
        }
      ]
    },
    {
      "cell_type": "code",
      "source": [
        "url = 'http://hilpisch.com/aiif_eikon_id_data.csv'\n",
        "\n",
        "data = pd.read_csv(url, index_col=0, parse_dates=True)\n",
        "\n",
        "data.info()"
      ],
      "metadata": {
        "colab": {
          "base_uri": "https://localhost:8080/"
        },
        "id": "ER2K9h84E4lx",
        "outputId": "e36762c1-2cf0-4f27-ebdb-a30059091cd9"
      },
      "execution_count": 13,
      "outputs": [
        {
          "output_type": "stream",
          "name": "stdout",
          "text": [
            "<class 'pandas.core.frame.DataFrame'>\n",
            "DatetimeIndex: 5529 entries, 2019-03-01 00:00:00 to 2020-01-01 00:00:00\n",
            "Data columns (total 12 columns):\n",
            " #   Column  Non-Null Count  Dtype  \n",
            "---  ------  --------------  -----  \n",
            " 0   AAPL.O  3384 non-null   float64\n",
            " 1   MSFT.O  3378 non-null   float64\n",
            " 2   INTC.O  3275 non-null   float64\n",
            " 3   AMZN.O  3381 non-null   float64\n",
            " 4   GS.N    1686 non-null   float64\n",
            " 5   SPY     3388 non-null   float64\n",
            " 6   .SPX    1802 non-null   float64\n",
            " 7   .VIX    2959 non-null   float64\n",
            " 8   EUR=    5429 non-null   float64\n",
            " 9   XAU=    5149 non-null   float64\n",
            " 10  GDX     3173 non-null   float64\n",
            " 11  GLD     3351 non-null   float64\n",
            "dtypes: float64(12)\n",
            "memory usage: 561.5 KB\n"
          ]
        }
      ]
    },
    {
      "cell_type": "code",
      "source": [
        "data.head()"
      ],
      "metadata": {
        "colab": {
          "base_uri": "https://localhost:8080/",
          "height": 238
        },
        "id": "kjFNIH1-HkjJ",
        "outputId": "6609476f-6483-4bb5-80e2-8a311ca22070"
      },
      "execution_count": 14,
      "outputs": [
        {
          "output_type": "execute_result",
          "data": {
            "text/plain": [
              "                     AAPL.O  MSFT.O  INTC.O  AMZN.O  GS.N     SPY  .SPX  .VIX  \\\n",
              "Date                                                                            \n",
              "2019-03-01 00:00:00  173.15  112.09   53.03  1640.4   NaN  278.59   NaN   NaN   \n",
              "2019-03-01 01:00:00  173.44  112.24     NaN  1642.8   NaN  278.80   NaN   NaN   \n",
              "2019-03-01 02:00:00     NaN     NaN     NaN     NaN   NaN     NaN   NaN   NaN   \n",
              "2019-03-01 03:00:00     NaN     NaN     NaN     NaN   NaN     NaN   NaN   NaN   \n",
              "2019-03-01 04:00:00     NaN     NaN     NaN     NaN   NaN     NaN   NaN   NaN   \n",
              "\n",
              "                       EUR=       XAU=    GDX     GLD  \n",
              "Date                                                   \n",
              "2019-03-01 00:00:00  1.1373  1314.0663  22.24  124.07  \n",
              "2019-03-01 01:00:00  1.1369  1312.9100  22.24  124.08  \n",
              "2019-03-01 02:00:00  1.1372  1314.3636    NaN     NaN  \n",
              "2019-03-01 03:00:00  1.1367  1313.2452    NaN     NaN  \n",
              "2019-03-01 04:00:00  1.1369  1313.1746    NaN     NaN  "
            ],
            "text/html": [
              "\n",
              "  <div id=\"df-bd04b924-9c2e-4747-b19a-6163169cef09\">\n",
              "    <div class=\"colab-df-container\">\n",
              "      <div>\n",
              "<style scoped>\n",
              "    .dataframe tbody tr th:only-of-type {\n",
              "        vertical-align: middle;\n",
              "    }\n",
              "\n",
              "    .dataframe tbody tr th {\n",
              "        vertical-align: top;\n",
              "    }\n",
              "\n",
              "    .dataframe thead th {\n",
              "        text-align: right;\n",
              "    }\n",
              "</style>\n",
              "<table border=\"1\" class=\"dataframe\">\n",
              "  <thead>\n",
              "    <tr style=\"text-align: right;\">\n",
              "      <th></th>\n",
              "      <th>AAPL.O</th>\n",
              "      <th>MSFT.O</th>\n",
              "      <th>INTC.O</th>\n",
              "      <th>AMZN.O</th>\n",
              "      <th>GS.N</th>\n",
              "      <th>SPY</th>\n",
              "      <th>.SPX</th>\n",
              "      <th>.VIX</th>\n",
              "      <th>EUR=</th>\n",
              "      <th>XAU=</th>\n",
              "      <th>GDX</th>\n",
              "      <th>GLD</th>\n",
              "    </tr>\n",
              "    <tr>\n",
              "      <th>Date</th>\n",
              "      <th></th>\n",
              "      <th></th>\n",
              "      <th></th>\n",
              "      <th></th>\n",
              "      <th></th>\n",
              "      <th></th>\n",
              "      <th></th>\n",
              "      <th></th>\n",
              "      <th></th>\n",
              "      <th></th>\n",
              "      <th></th>\n",
              "      <th></th>\n",
              "    </tr>\n",
              "  </thead>\n",
              "  <tbody>\n",
              "    <tr>\n",
              "      <th>2019-03-01 00:00:00</th>\n",
              "      <td>173.15</td>\n",
              "      <td>112.09</td>\n",
              "      <td>53.03</td>\n",
              "      <td>1640.4</td>\n",
              "      <td>NaN</td>\n",
              "      <td>278.59</td>\n",
              "      <td>NaN</td>\n",
              "      <td>NaN</td>\n",
              "      <td>1.1373</td>\n",
              "      <td>1314.0663</td>\n",
              "      <td>22.24</td>\n",
              "      <td>124.07</td>\n",
              "    </tr>\n",
              "    <tr>\n",
              "      <th>2019-03-01 01:00:00</th>\n",
              "      <td>173.44</td>\n",
              "      <td>112.24</td>\n",
              "      <td>NaN</td>\n",
              "      <td>1642.8</td>\n",
              "      <td>NaN</td>\n",
              "      <td>278.80</td>\n",
              "      <td>NaN</td>\n",
              "      <td>NaN</td>\n",
              "      <td>1.1369</td>\n",
              "      <td>1312.9100</td>\n",
              "      <td>22.24</td>\n",
              "      <td>124.08</td>\n",
              "    </tr>\n",
              "    <tr>\n",
              "      <th>2019-03-01 02:00:00</th>\n",
              "      <td>NaN</td>\n",
              "      <td>NaN</td>\n",
              "      <td>NaN</td>\n",
              "      <td>NaN</td>\n",
              "      <td>NaN</td>\n",
              "      <td>NaN</td>\n",
              "      <td>NaN</td>\n",
              "      <td>NaN</td>\n",
              "      <td>1.1372</td>\n",
              "      <td>1314.3636</td>\n",
              "      <td>NaN</td>\n",
              "      <td>NaN</td>\n",
              "    </tr>\n",
              "    <tr>\n",
              "      <th>2019-03-01 03:00:00</th>\n",
              "      <td>NaN</td>\n",
              "      <td>NaN</td>\n",
              "      <td>NaN</td>\n",
              "      <td>NaN</td>\n",
              "      <td>NaN</td>\n",
              "      <td>NaN</td>\n",
              "      <td>NaN</td>\n",
              "      <td>NaN</td>\n",
              "      <td>1.1367</td>\n",
              "      <td>1313.2452</td>\n",
              "      <td>NaN</td>\n",
              "      <td>NaN</td>\n",
              "    </tr>\n",
              "    <tr>\n",
              "      <th>2019-03-01 04:00:00</th>\n",
              "      <td>NaN</td>\n",
              "      <td>NaN</td>\n",
              "      <td>NaN</td>\n",
              "      <td>NaN</td>\n",
              "      <td>NaN</td>\n",
              "      <td>NaN</td>\n",
              "      <td>NaN</td>\n",
              "      <td>NaN</td>\n",
              "      <td>1.1369</td>\n",
              "      <td>1313.1746</td>\n",
              "      <td>NaN</td>\n",
              "      <td>NaN</td>\n",
              "    </tr>\n",
              "  </tbody>\n",
              "</table>\n",
              "</div>\n",
              "      <button class=\"colab-df-convert\" onclick=\"convertToInteractive('df-bd04b924-9c2e-4747-b19a-6163169cef09')\"\n",
              "              title=\"Convert this dataframe to an interactive table.\"\n",
              "              style=\"display:none;\">\n",
              "        \n",
              "  <svg xmlns=\"http://www.w3.org/2000/svg\" height=\"24px\"viewBox=\"0 0 24 24\"\n",
              "       width=\"24px\">\n",
              "    <path d=\"M0 0h24v24H0V0z\" fill=\"none\"/>\n",
              "    <path d=\"M18.56 5.44l.94 2.06.94-2.06 2.06-.94-2.06-.94-.94-2.06-.94 2.06-2.06.94zm-11 1L8.5 8.5l.94-2.06 2.06-.94-2.06-.94L8.5 2.5l-.94 2.06-2.06.94zm10 10l.94 2.06.94-2.06 2.06-.94-2.06-.94-.94-2.06-.94 2.06-2.06.94z\"/><path d=\"M17.41 7.96l-1.37-1.37c-.4-.4-.92-.59-1.43-.59-.52 0-1.04.2-1.43.59L10.3 9.45l-7.72 7.72c-.78.78-.78 2.05 0 2.83L4 21.41c.39.39.9.59 1.41.59.51 0 1.02-.2 1.41-.59l7.78-7.78 2.81-2.81c.8-.78.8-2.07 0-2.86zM5.41 20L4 18.59l7.72-7.72 1.47 1.35L5.41 20z\"/>\n",
              "  </svg>\n",
              "      </button>\n",
              "      \n",
              "  <style>\n",
              "    .colab-df-container {\n",
              "      display:flex;\n",
              "      flex-wrap:wrap;\n",
              "      gap: 12px;\n",
              "    }\n",
              "\n",
              "    .colab-df-convert {\n",
              "      background-color: #E8F0FE;\n",
              "      border: none;\n",
              "      border-radius: 50%;\n",
              "      cursor: pointer;\n",
              "      display: none;\n",
              "      fill: #1967D2;\n",
              "      height: 32px;\n",
              "      padding: 0 0 0 0;\n",
              "      width: 32px;\n",
              "    }\n",
              "\n",
              "    .colab-df-convert:hover {\n",
              "      background-color: #E2EBFA;\n",
              "      box-shadow: 0px 1px 2px rgba(60, 64, 67, 0.3), 0px 1px 3px 1px rgba(60, 64, 67, 0.15);\n",
              "      fill: #174EA6;\n",
              "    }\n",
              "\n",
              "    [theme=dark] .colab-df-convert {\n",
              "      background-color: #3B4455;\n",
              "      fill: #D2E3FC;\n",
              "    }\n",
              "\n",
              "    [theme=dark] .colab-df-convert:hover {\n",
              "      background-color: #434B5C;\n",
              "      box-shadow: 0px 1px 3px 1px rgba(0, 0, 0, 0.15);\n",
              "      filter: drop-shadow(0px 1px 2px rgba(0, 0, 0, 0.3));\n",
              "      fill: #FFFFFF;\n",
              "    }\n",
              "  </style>\n",
              "\n",
              "      <script>\n",
              "        const buttonEl =\n",
              "          document.querySelector('#df-bd04b924-9c2e-4747-b19a-6163169cef09 button.colab-df-convert');\n",
              "        buttonEl.style.display =\n",
              "          google.colab.kernel.accessAllowed ? 'block' : 'none';\n",
              "\n",
              "        async function convertToInteractive(key) {\n",
              "          const element = document.querySelector('#df-bd04b924-9c2e-4747-b19a-6163169cef09');\n",
              "          const dataTable =\n",
              "            await google.colab.kernel.invokeFunction('convertToInteractive',\n",
              "                                                     [key], {});\n",
              "          if (!dataTable) return;\n",
              "\n",
              "          const docLinkHtml = 'Like what you see? Visit the ' +\n",
              "            '<a target=\"_blank\" href=https://colab.research.google.com/notebooks/data_table.ipynb>data table notebook</a>'\n",
              "            + ' to learn more about interactive tables.';\n",
              "          element.innerHTML = '';\n",
              "          dataTable['output_type'] = 'display_data';\n",
              "          await google.colab.output.renderOutput(dataTable, element);\n",
              "          const docLink = document.createElement('div');\n",
              "          docLink.innerHTML = docLinkHtml;\n",
              "          element.appendChild(docLink);\n",
              "        }\n",
              "      </script>\n",
              "    </div>\n",
              "  </div>\n",
              "  "
            ]
          },
          "metadata": {},
          "execution_count": 14
        }
      ]
    },
    {
      "cell_type": "code",
      "source": [
        "lags = 5\n",
        "\n",
        "dfs = {}\n",
        "\n",
        "for ric in data:\n",
        "  df, cols = add_lags(data, ric, lags)\n",
        "  dfs[ric] = df, cols\n",
        "\n",
        "train_test_model(model_mlp)"
      ],
      "metadata": {
        "colab": {
          "base_uri": "https://localhost:8080/"
        },
        "id": "pukiAeLVHovh",
        "outputId": "d8ea3064-bd5c-40fd-9cb8-eb2fac3259ab"
      },
      "execution_count": 15,
      "outputs": [
        {
          "output_type": "stream",
          "name": "stdout",
          "text": [
            "OUT-OF-SAMPLE | AAPL.O  | acc=0.5420\n",
            "OUT-OF-SAMPLE | MSFT.O  | acc=0.4930\n",
            "OUT-OF-SAMPLE | INTC.O  | acc=0.5549\n",
            "OUT-OF-SAMPLE | AMZN.O  | acc=0.4709\n",
            "OUT-OF-SAMPLE | GS.N    | acc=0.5184\n",
            "OUT-OF-SAMPLE | SPY     | acc=0.4860\n",
            "OUT-OF-SAMPLE | .SPX    | acc=0.5019\n",
            "OUT-OF-SAMPLE | .VIX    | acc=0.4885\n",
            "OUT-OF-SAMPLE | EUR=    | acc=0.5130\n",
            "OUT-OF-SAMPLE | XAU=    | acc=0.4824\n",
            "OUT-OF-SAMPLE | GDX     | acc=0.4765\n",
            "OUT-OF-SAMPLE | GLD     | acc=0.5455\n"
          ]
        }
      ]
    },
    {
      "cell_type": "code",
      "source": [
        "train_test_model(model_bag)"
      ],
      "metadata": {
        "colab": {
          "base_uri": "https://localhost:8080/"
        },
        "id": "HeFj7U-uI3cO",
        "outputId": "4233d9fe-72fd-4479-f8df-ebc261a023cf"
      },
      "execution_count": 16,
      "outputs": [
        {
          "output_type": "stream",
          "name": "stderr",
          "text": [
            "/usr/local/lib/python3.9/dist-packages/sklearn/ensemble/_base.py:166: FutureWarning: `base_estimator` was renamed to `estimator` in version 1.2 and will be removed in 1.4.\n",
            "  warnings.warn(\n"
          ]
        },
        {
          "output_type": "stream",
          "name": "stdout",
          "text": [
            "OUT-OF-SAMPLE | AAPL.O  | acc=0.5660\n"
          ]
        },
        {
          "output_type": "stream",
          "name": "stderr",
          "text": [
            "/usr/local/lib/python3.9/dist-packages/sklearn/ensemble/_base.py:166: FutureWarning: `base_estimator` was renamed to `estimator` in version 1.2 and will be removed in 1.4.\n",
            "  warnings.warn(\n"
          ]
        },
        {
          "output_type": "stream",
          "name": "stdout",
          "text": [
            "OUT-OF-SAMPLE | MSFT.O  | acc=0.5551\n"
          ]
        },
        {
          "output_type": "stream",
          "name": "stderr",
          "text": [
            "/usr/local/lib/python3.9/dist-packages/sklearn/ensemble/_base.py:166: FutureWarning: `base_estimator` was renamed to `estimator` in version 1.2 and will be removed in 1.4.\n",
            "  warnings.warn(\n"
          ]
        },
        {
          "output_type": "stream",
          "name": "stdout",
          "text": [
            "OUT-OF-SAMPLE | INTC.O  | acc=0.5072\n"
          ]
        },
        {
          "output_type": "stream",
          "name": "stderr",
          "text": [
            "/usr/local/lib/python3.9/dist-packages/sklearn/ensemble/_base.py:166: FutureWarning: `base_estimator` was renamed to `estimator` in version 1.2 and will be removed in 1.4.\n",
            "  warnings.warn(\n"
          ]
        },
        {
          "output_type": "stream",
          "name": "stdout",
          "text": [
            "OUT-OF-SAMPLE | AMZN.O  | acc=0.4830\n"
          ]
        },
        {
          "output_type": "stream",
          "name": "stderr",
          "text": [
            "/usr/local/lib/python3.9/dist-packages/sklearn/ensemble/_base.py:166: FutureWarning: `base_estimator` was renamed to `estimator` in version 1.2 and will be removed in 1.4.\n",
            "  warnings.warn(\n"
          ]
        },
        {
          "output_type": "stream",
          "name": "stdout",
          "text": [
            "OUT-OF-SAMPLE | GS.N    | acc=0.5020\n"
          ]
        },
        {
          "output_type": "stream",
          "name": "stderr",
          "text": [
            "/usr/local/lib/python3.9/dist-packages/sklearn/ensemble/_base.py:166: FutureWarning: `base_estimator` was renamed to `estimator` in version 1.2 and will be removed in 1.4.\n",
            "  warnings.warn(\n"
          ]
        },
        {
          "output_type": "stream",
          "name": "stdout",
          "text": [
            "OUT-OF-SAMPLE | SPY     | acc=0.4680\n"
          ]
        },
        {
          "output_type": "stream",
          "name": "stderr",
          "text": [
            "/usr/local/lib/python3.9/dist-packages/sklearn/ensemble/_base.py:166: FutureWarning: `base_estimator` was renamed to `estimator` in version 1.2 and will be removed in 1.4.\n",
            "  warnings.warn(\n"
          ]
        },
        {
          "output_type": "stream",
          "name": "stdout",
          "text": [
            "OUT-OF-SAMPLE | .SPX    | acc=0.4677\n"
          ]
        },
        {
          "output_type": "stream",
          "name": "stderr",
          "text": [
            "/usr/local/lib/python3.9/dist-packages/sklearn/ensemble/_base.py:166: FutureWarning: `base_estimator` was renamed to `estimator` in version 1.2 and will be removed in 1.4.\n",
            "  warnings.warn(\n"
          ]
        },
        {
          "output_type": "stream",
          "name": "stdout",
          "text": [
            "OUT-OF-SAMPLE | .VIX    | acc=0.5161\n"
          ]
        },
        {
          "output_type": "stream",
          "name": "stderr",
          "text": [
            "/usr/local/lib/python3.9/dist-packages/sklearn/ensemble/_base.py:166: FutureWarning: `base_estimator` was renamed to `estimator` in version 1.2 and will be removed in 1.4.\n",
            "  warnings.warn(\n"
          ]
        },
        {
          "output_type": "stream",
          "name": "stdout",
          "text": [
            "OUT-OF-SAMPLE | EUR=    | acc=0.5242\n"
          ]
        },
        {
          "output_type": "stream",
          "name": "stderr",
          "text": [
            "/usr/local/lib/python3.9/dist-packages/sklearn/ensemble/_base.py:166: FutureWarning: `base_estimator` was renamed to `estimator` in version 1.2 and will be removed in 1.4.\n",
            "  warnings.warn(\n"
          ]
        },
        {
          "output_type": "stream",
          "name": "stdout",
          "text": [
            "OUT-OF-SAMPLE | XAU=    | acc=0.5229\n"
          ]
        },
        {
          "output_type": "stream",
          "name": "stderr",
          "text": [
            "/usr/local/lib/python3.9/dist-packages/sklearn/ensemble/_base.py:166: FutureWarning: `base_estimator` was renamed to `estimator` in version 1.2 and will be removed in 1.4.\n",
            "  warnings.warn(\n"
          ]
        },
        {
          "output_type": "stream",
          "name": "stdout",
          "text": [
            "OUT-OF-SAMPLE | GDX     | acc=0.5107\n"
          ]
        },
        {
          "output_type": "stream",
          "name": "stderr",
          "text": [
            "/usr/local/lib/python3.9/dist-packages/sklearn/ensemble/_base.py:166: FutureWarning: `base_estimator` was renamed to `estimator` in version 1.2 and will be removed in 1.4.\n",
            "  warnings.warn(\n"
          ]
        },
        {
          "output_type": "stream",
          "name": "stdout",
          "text": [
            "OUT-OF-SAMPLE | GLD     | acc=0.5475\n"
          ]
        }
      ]
    },
    {
      "cell_type": "code",
      "source": [],
      "metadata": {
        "id": "ajuEV3KoI84-"
      },
      "execution_count": null,
      "outputs": []
    }
  ]
}