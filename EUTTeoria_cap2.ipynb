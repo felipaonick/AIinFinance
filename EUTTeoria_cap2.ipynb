{
  "nbformat": 4,
  "nbformat_minor": 0,
  "metadata": {
    "colab": {
      "provenance": []
    },
    "kernelspec": {
      "name": "python3",
      "display_name": "Python 3"
    },
    "language_info": {
      "name": "python"
    }
  },
  "cells": [
    {
      "cell_type": "code",
      "source": [
        "import numpy as np\n",
        "\n",
        "#prezzi del titolo e del bond oggi\n",
        "S0 = 10\n",
        "B0 = 10\n",
        "\n",
        "#incertezza del payoff del titolo e del bond domani\n",
        "S1 = np.array((20, 5))\n",
        "B1 = np.array((11, 11))\n",
        "\n",
        "#vettore dei prezzi\n",
        "M0 = np.array((S0, B0))\n",
        "M0"
      ],
      "metadata": {
        "id": "wZjikXGVTAaj",
        "colab": {
          "base_uri": "https://localhost:8080/"
        },
        "outputId": "11ffc42d-4872-4cfc-bc2a-8b99902ac9ea"
      },
      "execution_count": null,
      "outputs": [
        {
          "output_type": "execute_result",
          "data": {
            "text/plain": [
              "array([10, 10])"
            ]
          },
          "metadata": {},
          "execution_count": 2
        }
      ]
    },
    {
      "cell_type": "code",
      "source": [
        "#matrice dei payoff\n",
        "M1 = np.array((S1, B1)).T\n",
        "M1"
      ],
      "metadata": {
        "colab": {
          "base_uri": "https://localhost:8080/"
        },
        "id": "PLsMHVDsHNIw",
        "outputId": "520b61c8-f632-45c1-a6aa-d972441c6bde"
      },
      "execution_count": null,
      "outputs": [
        {
          "output_type": "execute_result",
          "data": {
            "text/plain": [
              "array([[20, 11],\n",
              "       [ 5, 11]])"
            ]
          },
          "metadata": {},
          "execution_count": 4
        }
      ]
    },
    {
      "cell_type": "code",
      "source": [
        "#funzione Bernoulli Utility di avversione al rischio\n",
        "def u(x):\n",
        "  return np.sqrt(x)\n",
        "\n",
        "#due protafogli con pesi diversi\n",
        "phi_A = np.array((0.75, 0.25))\n",
        "phi_D = np.array((0.25, 0.75))\n",
        "\n",
        "np.dot(M0, phi_A) == np.dot(M0, phi_D)"
      ],
      "metadata": {
        "colab": {
          "base_uri": "https://localhost:8080/"
        },
        "id": "_Wl1hMDRIodS",
        "outputId": "99217dee-eafd-4cbf-8281-c3bbc0d8f73e"
      },
      "execution_count": null,
      "outputs": [
        {
          "output_type": "execute_result",
          "data": {
            "text/plain": [
              "True"
            ]
          },
          "metadata": {},
          "execution_count": 9
        }
      ]
    },
    {
      "cell_type": "code",
      "source": [
        "#payoff incerto di un portafoglio\n",
        "A1 = np.dot(M1, phi_A)\n",
        "A1"
      ],
      "metadata": {
        "colab": {
          "base_uri": "https://localhost:8080/"
        },
        "id": "7lHOE8IyLq6m",
        "outputId": "a05c68b5-5ef3-428e-9fa9-75238f772c12"
      },
      "execution_count": null,
      "outputs": [
        {
          "output_type": "execute_result",
          "data": {
            "text/plain": [
              "array([17.75,  6.5 ])"
            ]
          },
          "metadata": {},
          "execution_count": 11
        }
      ]
    },
    {
      "cell_type": "code",
      "source": [
        "#payoff incerto dell'altro portafoglio\n",
        "D1 = np.dot(M1, phi_D)\n",
        "D1"
      ],
      "metadata": {
        "colab": {
          "base_uri": "https://localhost:8080/"
        },
        "id": "q1iTbqxUNNvu",
        "outputId": "d77f90bd-60e5-4aa8-a941-c3e5009f2950"
      },
      "execution_count": null,
      "outputs": [
        {
          "output_type": "execute_result",
          "data": {
            "text/plain": [
              "array([13.25,  9.5 ])"
            ]
          },
          "metadata": {},
          "execution_count": 15
        }
      ]
    },
    {
      "cell_type": "code",
      "source": [
        "#la misura di probabilità\n",
        "P = np.array((0.5, 0.5))\n",
        "\n",
        "#funzione utilità attesa\n",
        "def EUT(x):\n",
        "  return np.dot(P, u(x))\n",
        "\n",
        "#i valori di utilità per i due payoffs incerti\n",
        "EUT(A1), EUT(D1)"
      ],
      "metadata": {
        "colab": {
          "base_uri": "https://localhost:8080/"
        },
        "id": "hLbeyecjNjxW",
        "outputId": "50dc3192-9125-4be7-f333-4184d0e7d54e"
      },
      "execution_count": 17,
      "outputs": [
        {
          "output_type": "execute_result",
          "data": {
            "text/plain": [
              "(3.381292321692286, 3.3611309730623735)"
            ]
          },
          "metadata": {},
          "execution_count": 17
        }
      ]
    },
    {
      "cell_type": "code",
      "execution_count": 19,
      "metadata": {
        "colab": {
          "base_uri": "https://localhost:8080/"
        },
        "id": "QQuzrxTKab7a",
        "outputId": "4e034126-d662-41ef-9786-d4c2cc4b2ebc"
      },
      "outputs": [
        {
          "output_type": "execute_result",
          "data": {
            "text/plain": [
              " message: Optimization terminated successfully\n",
              " success: True\n",
              "  status: 0\n",
              "     fun: -3.385015999493397\n",
              "       x: [ 6.112e-01  3.888e-01]\n",
              "     nit: 4\n",
              "     jac: [-1.692e+00 -1.693e+00]\n",
              "    nfev: 12\n",
              "    njev: 4"
            ]
          },
          "metadata": {},
          "execution_count": 19
        }
      ],
      "source": [
        "from scipy.optimize import minimize\n",
        "\n",
        "#budget dell'agente\n",
        "w = 10\n",
        "\n",
        "#vincolo di budget da utilizzare con minimizza\n",
        "cons = {'type': 'eq', 'fun': lambda phi: np.dot(M0, phi) - w}\n",
        "\n",
        "#la funzione di utilità attesa definita sui portafogli\n",
        "def EUT_(phi):\n",
        "  x = np.dot(M1, phi) \n",
        "  return EUT(x)\n",
        "\n",
        "opt = minimize(lambda phi: -EUT_(phi),#minimizzando -EUT_(phi) si massimizza EUT_(phi)\n",
        "               x0 = phi_A,#l'ipotesi iniziale per l'ottimizzazione\n",
        "               constraints = cons)#il vincolo del budget applicato\n",
        "#risultati ottimali, includendo il portafoglio ottimale sotto x\n",
        "opt"
      ]
    },
    {
      "cell_type": "code",
      "source": [
        "#L'ottimale (la più alta) utilità attesa data dal budget di w = 10\n",
        "EUT_(opt['x'])"
      ],
      "metadata": {
        "colab": {
          "base_uri": "https://localhost:8080/"
        },
        "id": "w8aAFJ0uc2nQ",
        "outputId": "88eeda94-f142-481c-a9b7-817b332bbf13"
      },
      "execution_count": 20,
      "outputs": [
        {
          "output_type": "execute_result",
          "data": {
            "text/plain": [
              "3.385015999493397"
            ]
          },
          "metadata": {},
          "execution_count": 20
        }
      ]
    }
  ]
}